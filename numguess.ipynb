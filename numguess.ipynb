{
 "cells": [
  {
   "cell_type": "code",
   "execution_count": null,
   "metadata": {
    "collapsed": true
   },
   "outputs": [],
   "source": [
    "#코드 수정 하고 나면\n",
    "#테스트 \n",
    "#for -> range()\n",
    "#list -> 승패 여부를 담아두는 공간\n",
    "\n",
    "#3판 2선승제\n",
    "#if\n",
    "import random\n",
    "\n",
    "user_name = input(\"이름이 뭐에요? : \")\n",
    "#user가 이기면 False - > True\n",
    "#가위, 바위, 보\n",
    "\n",
    "result = [False, False, False]\n",
    "\n",
    "for i in range(3):\n",
    "    com = random.randint(1, 10)\n",
    "    #print(com)\n",
    "    user = int(input(\"Guess a number, {} : \".format(user_name)))\n",
    "    #유저가 이겼을 때\n",
    "    if user == com:\n",
    "        result[i] = True\n",
    "        \n",
    "if result.count(True) >= 2:\n",
    "    print('you win!, {}'.format(user_name))\n",
    "else:\n",
    "    print('you lose!, {}'.format(user_name))"
   ]
  }
 ],
 "metadata": {
  "kernelspec": {
   "display_name": "Python 3",
   "language": "python",
   "name": "python3"
  },
  "language_info": {
   "codemirror_mode": {
    "name": "ipython",
    "version": 3
   },
   "file_extension": ".py",
   "mimetype": "text/x-python",
   "name": "python",
   "nbconvert_exporter": "python",
   "pygments_lexer": "ipython3",
   "version": "3.6.1"
  }
 },
 "nbformat": 4,
 "nbformat_minor": 2
}
