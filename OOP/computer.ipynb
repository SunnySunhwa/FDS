{
 "cells": [
  {
   "cell_type": "code",
   "execution_count": 1,
   "metadata": {
    "collapsed": true
   },
   "outputs": [],
   "source": [
    "class Person:\n",
    "    #class member\n",
    "    planet = 'Earth'\n",
    "    \n",
    "    #멤버 초기화\n",
    "    def __init__(self, name, age):\n",
    "        #instane member\n",
    "        self.name = name\n",
    "        self.age = age\n",
    "        self.nationality = None\n",
    "        \n",
    "    def __del__(self):\n",
    "        pass\n",
    "    #instance method : 객체가 가지는 기능, 행동(behavior)\n",
    "    def eat(self, food):\n",
    "        print('{} eats {}'.format(self.name, food))\n",
    "    \n",
    "    def sleep(self, hour):\n",
    "        pass\n",
    "    "
   ]
  },
  {
   "cell_type": "code",
   "execution_count": 3,
   "metadata": {
    "collapsed": true
   },
   "outputs": [],
   "source": [
    "#Computer에 대한 클래스\n",
    "# 3개의 멤버\n",
    "#self.send_data\n",
    "#self.receive_data\n",
    "#self.cpu\n",
    "#self.ram\n",
    "\n",
    "#data_receiver\n",
    "#data_sender\n",
    "# message passing : 다른 컴퓨터한테 내 정보를 전송\n",
    "#self.data : string\n",
    "#__str__\n",
    "#self.receive_data\n"
   ]
  },
  {
   "cell_type": "code",
   "execution_count": 31,
   "metadata": {
    "collapsed": true
   },
   "outputs": [],
   "source": [
    "class Computer:\n",
    "    def __init__(self, cpu, ram):\n",
    "        self.CPU = cpu\n",
    "        self.RAM = ram\n",
    "        self.mem = []\n",
    "        self.send_data = None\n",
    "        self.receive_data = None\n",
    "        \n",
    "    def get_data_from_user(self):\n",
    "        s = input(\"string : \")\n",
    "        self.send_data = s\n",
    "        \n",
    "    def get_send_data(self):\n",
    "        return self.send_data\n",
    "    \n",
    "    def message_sender(self, other):\n",
    "        if not self.send_data:\n",
    "            return False\n",
    "        else:\n",
    "            res = other.message_receiver(self)\n",
    "            self.send_data = None\n",
    "            return res\n",
    "            \n",
    "    def message_receiver(self, other):\n",
    "        if self.receive_data:\n",
    "            return False\n",
    "        else:\n",
    "            self.receive_data = other.get_send_data()\n",
    "            if self.receive_data:\n",
    "                #추가된 코드\n",
    "                self.mem.append(self.receive_data)\n",
    "                self.receive_data = None\n",
    "                return True\n",
    "            else:\n",
    "                return False\n",
    "            \n",
    "    def get_receive_data(self):\n",
    "        return self.receive_data\n",
    "    \n",
    "    def __str__(self):\n",
    "        if not self.mem:\n",
    "            return 'No data'\n",
    "        else:\n",
    "            return str(self.mem)\n",
    "            "
   ]
  },
  {
   "cell_type": "code",
   "execution_count": 32,
   "metadata": {
    "collapsed": true
   },
   "outputs": [],
   "source": [
    "c1 = Computer('intel', 16)"
   ]
  },
  {
   "cell_type": "code",
   "execution_count": 33,
   "metadata": {
    "collapsed": true
   },
   "outputs": [],
   "source": [
    "c2 = Computer('AMD', 4)"
   ]
  },
  {
   "cell_type": "code",
   "execution_count": 34,
   "metadata": {},
   "outputs": [
    {
     "name": "stdout",
     "output_type": "stream",
     "text": [
      "string : I am your father!\n"
     ]
    }
   ],
   "source": [
    "c1.get_data_from_user()"
   ]
  },
  {
   "cell_type": "code",
   "execution_count": 35,
   "metadata": {},
   "outputs": [
    {
     "name": "stdout",
     "output_type": "stream",
     "text": [
      "I am your father!\n"
     ]
    }
   ],
   "source": [
    "print(c1.get_send_data())"
   ]
  },
  {
   "cell_type": "code",
   "execution_count": 36,
   "metadata": {},
   "outputs": [
    {
     "data": {
      "text/plain": [
       "True"
      ]
     },
     "execution_count": 36,
     "metadata": {},
     "output_type": "execute_result"
    }
   ],
   "source": [
    "c1.message_sender(c2)"
   ]
  },
  {
   "cell_type": "code",
   "execution_count": 37,
   "metadata": {},
   "outputs": [
    {
     "name": "stdout",
     "output_type": "stream",
     "text": [
      "['I am your father!']\n"
     ]
    }
   ],
   "source": [
    "print(c2)"
   ]
  },
  {
   "cell_type": "code",
   "execution_count": 38,
   "metadata": {},
   "outputs": [
    {
     "name": "stdout",
     "output_type": "stream",
     "text": [
      "string : what is your name?\n"
     ]
    }
   ],
   "source": [
    "c1.get_data_from_user()"
   ]
  },
  {
   "cell_type": "code",
   "execution_count": 41,
   "metadata": {},
   "outputs": [
    {
     "data": {
      "text/plain": [
       "True"
      ]
     },
     "execution_count": 41,
     "metadata": {},
     "output_type": "execute_result"
    }
   ],
   "source": [
    "c1.message_sender(c2)"
   ]
  },
  {
   "cell_type": "code",
   "execution_count": 42,
   "metadata": {},
   "outputs": [
    {
     "name": "stdout",
     "output_type": "stream",
     "text": [
      "['I am your father!', 'what is your name?']\n"
     ]
    }
   ],
   "source": [
    "print(c2)"
   ]
  },
  {
   "cell_type": "code",
   "execution_count": null,
   "metadata": {
    "collapsed": true
   },
   "outputs": [],
   "source": []
  }
 ],
 "metadata": {
  "kernelspec": {
   "display_name": "Python 3",
   "language": "python",
   "name": "python3"
  },
  "language_info": {
   "codemirror_mode": {
    "name": "ipython",
    "version": 3
   },
   "file_extension": ".py",
   "mimetype": "text/x-python",
   "name": "python",
   "nbconvert_exporter": "python",
   "pygments_lexer": "ipython3",
   "version": "3.6.1"
  }
 },
 "nbformat": 4,
 "nbformat_minor": 2
}
