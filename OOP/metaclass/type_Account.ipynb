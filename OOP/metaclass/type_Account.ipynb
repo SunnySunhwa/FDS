{
 "cells": [
  {
   "cell_type": "code",
   "execution_count": 7,
   "metadata": {
    "collapsed": true
   },
   "outputs": [],
   "source": [
    "\n",
    "name = 'Good life'\n",
    "interest_rate = 7.0\n",
    "kind = 'demand deposit'\n",
    "\n",
    "@classmethod\n",
    "def get_account_info(cls):\n",
    "    '''\n",
    "    cls.get_account_info() -> (name, interest_rate, kind)\n",
    "    '''\n",
    "    return Account.name,\\\n",
    "            Account.interest_rate,\\\n",
    "            Account.kind\n",
    "    \n",
    "\n",
    "def __init__(self, name, money):\n",
    "    self.user = name\n",
    "    self.balance = money\n",
    "\n",
    "def __del__(self):\n",
    "    pass\n",
    "\n",
    "    \n",
    "def deposit(self, money):\n",
    "    if money < 0:\n",
    "        return\n",
    "    self.balance += money\n",
    "\n",
    "def withdraw(self, money):\n",
    "    if money > 0 and money <= self.balance:\n",
    "        self.balance -= money\n",
    "        return money\n",
    "    else:\n",
    "        return None\n",
    "\n",
    "def transfer(self, other, money):\n",
    "    '''\n",
    "    obj.transfer(other, money) -> bool\n",
    "    other : The object to interact with\n",
    "    money : money the user wants to send\n",
    "\n",
    "    returns True if the balance is enough to transfer\n",
    "    returns False if not\n",
    "    '''\n",
    "    mon = self.withdraw(money)\n",
    "    if mon:\n",
    "        other.deposit(mon)\n",
    "        return True\n",
    "    else:\n",
    "        return False\n",
    "\n",
    "def __str__(self):\n",
    "    return 'user : {}, balance : {}'.format(self.user, self.balance)\n",
    "\n",
    "Account = type('Account', (), \n",
    "              {\n",
    "                  'name' : name,\n",
    "                  'interest_rate' : interest_rate,\n",
    "                  'kind' : kind,\n",
    "                  'get_account_info' : get_account_info,\n",
    "                  '__init__' : __init__,\n",
    "                  '__del__' : __del__,\n",
    "                  'deposit' : deposit,\n",
    "                  'withdraw' : withdraw,\n",
    "                  'transfer' : transfer,\n",
    "                  '__str__' : __str__\n",
    "              })"
   ]
  },
  {
   "cell_type": "code",
   "execution_count": 8,
   "metadata": {
    "collapsed": true
   },
   "outputs": [],
   "source": [
    "my_acnt = Account('greg', 5000)\n",
    "your_acnt = Account('john', 1000)"
   ]
  },
  {
   "cell_type": "code",
   "execution_count": 9,
   "metadata": {},
   "outputs": [
    {
     "name": "stdout",
     "output_type": "stream",
     "text": [
      "user : greg, balance : 5000\n",
      "user : john, balance : 1000\n"
     ]
    }
   ],
   "source": [
    "print(my_acnt)\n",
    "print(your_acnt)"
   ]
  },
  {
   "cell_type": "code",
   "execution_count": 10,
   "metadata": {},
   "outputs": [
    {
     "name": "stdout",
     "output_type": "stream",
     "text": [
      "user : greg, balance : 5500\n"
     ]
    }
   ],
   "source": [
    "my_acnt.deposit(500)\n",
    "print(my_acnt)"
   ]
  },
  {
   "cell_type": "code",
   "execution_count": 11,
   "metadata": {},
   "outputs": [
    {
     "name": "stdout",
     "output_type": "stream",
     "text": [
      "withdrawn money : 1500\n"
     ]
    }
   ],
   "source": [
    "money = my_acnt.withdraw(1500)\n",
    "if money:\n",
    "    print('withdrawn money : {}'.format(money))\n",
    "else:\n",
    "    print('Not enough to withdraw')"
   ]
  },
  {
   "cell_type": "code",
   "execution_count": 12,
   "metadata": {},
   "outputs": [
    {
     "name": "stdout",
     "output_type": "stream",
     "text": [
      "Good life 7.0 demand deposit\n"
     ]
    }
   ],
   "source": [
    "print(Account.name, Account.interest_rate, Account.kind)"
   ]
  },
  {
   "cell_type": "code",
   "execution_count": 13,
   "metadata": {},
   "outputs": [
    {
     "name": "stdout",
     "output_type": "stream",
     "text": [
      "Acount info\n",
      "name : Good life\n",
      "interest rate : 7.0\n",
      "kind : demand deposit\n"
     ]
    }
   ],
   "source": [
    "info = Account.get_account_info()\n",
    "print('''Acount info\n",
    "name : {}\n",
    "interest rate : {}\n",
    "kind : {}'''.format(info[0], info[1], info[2]))"
   ]
  },
  {
   "cell_type": "code",
   "execution_count": 15,
   "metadata": {},
   "outputs": [
    {
     "name": "stdout",
     "output_type": "stream",
     "text": [
      "user : greg, balance : 4000\n",
      "user : john, balance : 1000\n",
      "transfer succeeded\n",
      "user : greg, balance : 2000\n",
      "user : john, balance : 3000\n"
     ]
    }
   ],
   "source": [
    "print(my_acnt)\n",
    "print(your_acnt)\n",
    "res = my_acnt.transfer(your_acnt, 2000)\n",
    "if res:\n",
    "    print('transfer succeeded')\n",
    "else:\n",
    "    print('transfer failed')\n",
    "print(my_acnt)\n",
    "print(your_acnt)"
   ]
  },
  {
   "cell_type": "code",
   "execution_count": 17,
   "metadata": {},
   "outputs": [
    {
     "data": {
      "text/plain": [
       "function"
      ]
     },
     "execution_count": 17,
     "metadata": {},
     "output_type": "execute_result"
    }
   ],
   "source": [
    "type(Account.deposit)"
   ]
  },
  {
   "cell_type": "code",
   "execution_count": 19,
   "metadata": {},
   "outputs": [
    {
     "data": {
      "text/plain": [
       "method"
      ]
     },
     "execution_count": 19,
     "metadata": {},
     "output_type": "execute_result"
    }
   ],
   "source": [
    "type(my_acnt.deposit)"
   ]
  },
  {
   "cell_type": "code",
   "execution_count": 20,
   "metadata": {},
   "outputs": [
    {
     "data": {
      "text/plain": [
       "True"
      ]
     },
     "execution_count": 20,
     "metadata": {},
     "output_type": "execute_result"
    }
   ],
   "source": [
    "my_acnt.__class__ is Account"
   ]
  },
  {
   "cell_type": "code",
   "execution_count": 21,
   "metadata": {},
   "outputs": [
    {
     "data": {
      "text/plain": [
       "False"
      ]
     },
     "execution_count": 21,
     "metadata": {},
     "output_type": "execute_result"
    }
   ],
   "source": [
    "my_acnt.deposit is Account.deposit"
   ]
  },
  {
   "cell_type": "code",
   "execution_count": 23,
   "metadata": {},
   "outputs": [
    {
     "data": {
      "text/plain": [
       "True"
      ]
     },
     "execution_count": 23,
     "metadata": {},
     "output_type": "execute_result"
    }
   ],
   "source": [
    "my_acnt.deposit.__func__ is Account.deposit"
   ]
  },
  {
   "cell_type": "code",
   "execution_count": null,
   "metadata": {
    "collapsed": true
   },
   "outputs": [],
   "source": []
  }
 ],
 "metadata": {
  "kernelspec": {
   "display_name": "Python 3",
   "language": "python",
   "name": "python3"
  },
  "language_info": {
   "codemirror_mode": {
    "name": "ipython",
    "version": 3
   },
   "file_extension": ".py",
   "mimetype": "text/x-python",
   "name": "python",
   "nbconvert_exporter": "python",
   "pygments_lexer": "ipython3",
   "version": "3.6.1"
  }
 },
 "nbformat": 4,
 "nbformat_minor": 2
}
