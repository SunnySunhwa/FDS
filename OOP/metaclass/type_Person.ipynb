{
 "cells": [
  {
   "cell_type": "code",
   "execution_count": 22,
   "metadata": {
    "collapsed": true
   },
   "outputs": [],
   "source": [
    "#type(name, bases, dict)\n",
    "\n",
    "def __init__(self, name, money):\n",
    "    self.name = name\n",
    "    self.money = money\n",
    "def give_money(self, other, money):\n",
    "    self.money -= money\n",
    "    other.get_money(money)\n",
    "def get_money(self, money):\n",
    "    self.money += money\n",
    "def show(self):\n",
    "    print('{} : {}'.format(self.name, self.money))\n",
    "\n",
    "Person = type('Person', (), \n",
    "              {'__init__' : __init__, \n",
    "               'give_money' : give_money,\n",
    "              'get_money' : get_money,\n",
    "              'show' : show})"
   ]
  },
  {
   "cell_type": "code",
   "execution_count": 23,
   "metadata": {
    "collapsed": true
   },
   "outputs": [],
   "source": [
    "g = Person('greg', 5000)\n",
    "j = Person('john', 2000)"
   ]
  },
  {
   "cell_type": "code",
   "execution_count": 24,
   "metadata": {},
   "outputs": [
    {
     "name": "stdout",
     "output_type": "stream",
     "text": [
      "greg : 5000\n",
      "john : 2000\n"
     ]
    }
   ],
   "source": [
    "g.show()\n",
    "j.show()"
   ]
  },
  {
   "cell_type": "code",
   "execution_count": 25,
   "metadata": {},
   "outputs": [],
   "source": [
    "g.give_money(j, 2000)"
   ]
  },
  {
   "cell_type": "code",
   "execution_count": 26,
   "metadata": {},
   "outputs": [
    {
     "name": "stdout",
     "output_type": "stream",
     "text": [
      "greg : 3000\n",
      "john : 4000\n"
     ]
    }
   ],
   "source": [
    "g.show()\n",
    "j.show()"
   ]
  },
  {
   "cell_type": "code",
   "execution_count": null,
   "metadata": {
    "collapsed": true
   },
   "outputs": [],
   "source": []
  }
 ],
 "metadata": {
  "kernelspec": {
   "display_name": "Python 3",
   "language": "python",
   "name": "python3"
  },
  "language_info": {
   "codemirror_mode": {
    "name": "ipython",
    "version": 3
   },
   "file_extension": ".py",
   "mimetype": "text/x-python",
   "name": "python",
   "nbconvert_exporter": "python",
   "pygments_lexer": "ipython3",
   "version": "3.6.1"
  }
 },
 "nbformat": 4,
 "nbformat_minor": 2
}
